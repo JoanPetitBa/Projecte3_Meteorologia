{
 "cells": [
  {
   "cell_type": "markdown",
   "metadata": {},
   "source": [
    "# MODELOS"
   ]
  },
  {
   "cell_type": "markdown",
   "metadata": {},
   "source": [
    "IMPORTACION DE LIBRERIAS"
   ]
  },
  {
   "cell_type": "code",
   "execution_count": 1,
   "metadata": {},
   "outputs": [
    {
     "name": "stderr",
     "output_type": "stream",
     "text": [
      "c:\\Users\\joant\\AppData\\Local\\Programs\\Python\\Python310\\lib\\site-packages\\tqdm\\auto.py:21: TqdmWarning: IProgress not found. Please update jupyter and ipywidgets. See https://ipywidgets.readthedocs.io/en/stable/user_install.html\n",
      "  from .autonotebook import tqdm as notebook_tqdm\n"
     ]
    }
   ],
   "source": [
    "# Bibliotecas estándar\n",
    "import os\n",
    "import joblib\n",
    "import concurrent.futures\n",
    "import re\n",
    "import random\n",
    "from collections import Counter\n",
    "from datetime import datetime\n",
    "\n",
    "# Bibliotecas científicas\n",
    "import numpy as np\n",
    "\n",
    "# Bibliotecas de análisis y modelado de datos\n",
    "import pandas as pd\n",
    "from sklearn.model_selection import train_test_split, GridSearchCV, RandomizedSearchCV\n",
    "from sklearn.preprocessing import StandardScaler\n",
    "\n",
    "from sklearn.metrics import mean_absolute_error, mean_squared_error, classification_report, confusion_matrix, roc_auc_score, accuracy_score\n",
    "from sklearn.model_selection import TimeSeriesSplit\n",
    "\n",
    "# Librerias de modelos\n",
    "from statsmodels.tsa.statespace.sarimax import SARIMAX\n",
    "from xgboost import XGBRegressor, XGBClassifier\n",
    "from prophet import Prophet\n",
    "from sklearn.ensemble import RandomForestRegressor\n",
    "from sklearn.svm import SVC\n",
    "from sklearn.ensemble import RandomForestClassifier\n",
    "\n",
    "# Bibliotecas de visualización\n",
    "from imblearn.over_sampling import SMOTE, BorderlineSMOTE\n",
    "from imblearn.under_sampling import RandomUnderSampler\n"
   ]
  },
  {
   "cell_type": "markdown",
   "metadata": {},
   "source": [
    "CARGA DE DATOS"
   ]
  },
  {
   "cell_type": "code",
   "execution_count": 2,
   "metadata": {},
   "outputs": [],
   "source": [
    "df = pd.read_csv(r'.\\..\\..\\Datos_Proyecto\\observations_full.csv')\n",
    "\n",
    "df['date'] = pd.to_datetime(df['date'])\n",
    "\n",
    "df['year'] = df['date'].dt.year\n",
    "df['month'] = df['date'].dt.month\n",
    "df['day'] = df['date'].dt.day"
   ]
  },
  {
   "cell_type": "markdown",
   "metadata": {},
   "source": [
    "SVM"
   ]
  },
  {
   "cell_type": "code",
   "execution_count": 14,
   "metadata": {},
   "outputs": [
    {
     "name": "stdout",
     "output_type": "stream",
     "text": [
      "Accuracy: 0.8421385637456501\n",
      "Classification Report:\n",
      "              precision    recall  f1-score   support\n",
      "\n",
      "           1       0.84      0.87      0.86      1897\n",
      "           2       0.83      0.84      0.84      1896\n",
      "           3       0.75      0.57      0.65      1897\n",
      "           4       0.86      0.97      0.91      1897\n",
      "           5       0.89      0.97      0.93      1896\n",
      "\n",
      "    accuracy                           0.84      9483\n",
      "   macro avg       0.84      0.84      0.84      9483\n",
      "weighted avg       0.84      0.84      0.84      9483\n",
      "\n",
      "Confusion Matrix:\n",
      "[[1643    5  156   93    0]\n",
      " [  18 1587  197   94    0]\n",
      " [ 264  280 1078   71  204]\n",
      " [  21   32    0 1831   13]\n",
      " [   0    0    0   49 1847]]\n",
      "ROC AUC: 0.9690939074866127\n"
     ]
    },
    {
     "data": {
      "text/plain": [
       "['.\\\\..\\\\Modelos\\\\SVM_weather_id.pkl']"
      ]
     },
     "execution_count": 14,
     "metadata": {},
     "output_type": "execute_result"
    }
   ],
   "source": [
    "# Select features and target\n",
    "features = ['year', 'month', 'day', 'precipitation', 'wind', 'humidity', 'visibility', 'estacion_id']\n",
    "target = 'weather_id'\n",
    "\n",
    "# Split data into train and test sets\n",
    "X = df[features]\n",
    "y = df[target]\n",
    "\n",
    "# Handle class imbalance with SMOTE\n",
    "smote = SMOTE(random_state=42)\n",
    "X_res, y_res = smote.fit_resample(X, y)\n",
    "\n",
    "# Train-test split\n",
    "X_train, X_test, y_train, y_test = train_test_split(X_res, y_res, test_size=0.2, random_state=42, stratify=y_res)\n",
    "\n",
    "# Scale the data (using StandardScaler)\n",
    "scaler = StandardScaler()\n",
    "X_train_scaled = scaler.fit_transform(X_train)\n",
    "X_test_scaled = scaler.transform(X_test)\n",
    "\n",
    "model = SVC(probability=True, C=0.1, gamma='scale', kernel='rbf', class_weight='balanced')\n",
    "model.fit(X_train_scaled, y_train)\n",
    "\n",
    "# Make predictions\n",
    "y_pred = model.predict(X_test_scaled)\n",
    "\n",
    "accuracy = accuracy_score(y_test, y_pred)\n",
    "print(f\"Accuracy: {accuracy}\")\n",
    "\n",
    "# Classification Report\n",
    "print(\"Classification Report:\")\n",
    "print(classification_report(y_test, y_pred))\n",
    "\n",
    "# Confusion Matrix\n",
    "print(\"Confusion Matrix:\")\n",
    "print(confusion_matrix(y_test, y_pred))\n",
    "\n",
    "# ROC AUC (for multi-class)\n",
    "roc_auc = roc_auc_score(y_test, model.predict_proba(X_test_scaled), multi_class='ovr')\n",
    "print(f\"ROC AUC: {roc_auc}\")\n",
    "\n",
    "# Save the model using joblib\n",
    "joblib.dump(model, r'.\\..\\Modelos\\SVM_weather_id.pkl')"
   ]
  },
  {
   "cell_type": "markdown",
   "metadata": {},
   "source": [
    "XGBoosting Classifier"
   ]
  },
  {
   "cell_type": "code",
   "execution_count": 13,
   "metadata": {},
   "outputs": [
    {
     "name": "stdout",
     "output_type": "stream",
     "text": [
      "Distribución original de las clases: Counter({1: 9483, 0: 9024, 2: 5959, 3: 429, 4: 105})\n",
      "Distribución de clases después de SMOTE: Counter({0: 9483, 2: 9483, 1: 9483, 3: 9483, 4: 9483})\n",
      "Accuracy: 0.9333544237055784\n",
      "\n",
      "Reporte de clasificación:\n",
      "              precision    recall  f1-score   support\n",
      "\n",
      "           1       0.89      0.97      0.93      1897\n",
      "           2       0.89      0.95      0.92      1910\n",
      "           3       0.93      0.74      0.82      1861\n",
      "           4       0.98      1.00      0.99      1892\n",
      "           5       0.99      1.00      0.99      1923\n",
      "\n",
      "    accuracy                           0.93      9483\n",
      "   macro avg       0.93      0.93      0.93      9483\n",
      "weighted avg       0.93      0.93      0.93      9483\n",
      "\n",
      "\n",
      "Matriz de confusión:\n",
      "[[1840    1   38   18    0]\n",
      " [   0 1820   70   20    0]\n",
      " [ 229  225 1382    0   25]\n",
      " [   2    4    0 1886    0]\n",
      " [   0    0    0    0 1923]]\n"
     ]
    },
    {
     "data": {
      "text/plain": [
       "['.\\\\..\\\\Modelos\\\\XGB_weather_id.pkl']"
      ]
     },
     "execution_count": 13,
     "metadata": {},
     "output_type": "execute_result"
    }
   ],
   "source": [
    "# Seleccionar las características y el objetivo\n",
    "features = ['year', 'month', 'day', 'precipitation', 'wind', 'humidity', 'visibility', 'estacion_id']\n",
    "target = 'weather_id'\n",
    "\n",
    "# Dividir los datos en características (X) y objetivo (y)\n",
    "X = df[features]\n",
    "y = df[target]\n",
    "\n",
    "# Ajustar las etiquetas para que comiencen desde 0\n",
    "y_adjusted = y - 1  # Ahora las clases estarán en el rango [0, 1, 2, 3, 4]\n",
    "\n",
    "# Mostrar la distribución original de las clases\n",
    "print(\"Distribución original de las clases:\", Counter(y_adjusted))\n",
    "\n",
    "# Crear una instancia de SMOTE\n",
    "smote = SMOTE(random_state=42, k_neighbors=10)\n",
    "X_resampled, y_resampled = smote.fit_resample(X, y_adjusted)\n",
    "\n",
    "# Mostrar la nueva distribución de las clases\n",
    "print(\"Distribución de clases después de SMOTE:\", Counter(y_resampled))\n",
    "\n",
    "# Dividir los datos balanceados en conjuntos de entrenamiento y prueba\n",
    "X_train, X_test, y_train, y_test = train_test_split(X_resampled, y_resampled, test_size=0.2, random_state=42)\n",
    "\n",
    "# Crear un modelo de XGBoost\n",
    "model = XGBClassifier(random_state=42, n_estimators=300, max_depth=30)\n",
    "\n",
    "# Ajustar el modelo con los datos de entrenamiento balanceados\n",
    "model.fit(X_train, y_train)\n",
    "\n",
    "# Realizar predicciones sobre el conjunto de prueba\n",
    "y_pred = model.predict(X_test)\n",
    "\n",
    "# Reconvertir las predicciones y las etiquetas originales\n",
    "y_pred = y_pred + 1  # Volver a [1, 2, 3, 4, 5]\n",
    "y_test = y_test + 1  # Volver a [1, 2, 3, 4, 5]\n",
    "\n",
    "# Calcular la exactitud (accuracy)\n",
    "accuracy = accuracy_score(y_test, y_pred)\n",
    "print(f\"Accuracy: {accuracy}\")\n",
    "\n",
    "# Evaluar el rendimiento del modelo\n",
    "print(\"\\nReporte de clasificación:\")\n",
    "print(classification_report(y_test, y_pred))\n",
    "\n",
    "# Mostrar la matriz de confusión\n",
    "print(\"\\nMatriz de confusión:\")\n",
    "print(confusion_matrix(y_test, y_pred))\n",
    "\n",
    "# Guardar el modelo entrenado usando joblib\n",
    "joblib.dump(model, r'.\\..\\Modelos\\XGB_weather_id.pkl')"
   ]
  },
  {
   "cell_type": "markdown",
   "metadata": {},
   "source": [
    "RANDOM FOREST CLASSIFIER"
   ]
  },
  {
   "cell_type": "code",
   "execution_count": 12,
   "metadata": {},
   "outputs": [
    {
     "name": "stdout",
     "output_type": "stream",
     "text": [
      "Distribución original de las clases: Counter({1: 9483, 0: 9024, 2: 5959, 3: 429, 4: 105})\n",
      "Distribución de clases después de SMOTE: Counter({0: 9483, 2: 9483, 1: 9483, 3: 9483, 4: 9483})\n",
      "Accuracy: 0.9310344827586207\n",
      "\n",
      "Reporte de clasificación:\n",
      "              precision    recall  f1-score   support\n",
      "\n",
      "           1       0.87      0.99      0.92      1897\n",
      "           2       0.87      0.98      0.92      1910\n",
      "           3       0.99      0.69      0.81      1861\n",
      "           4       0.97      1.00      0.98      1892\n",
      "           5       0.99      1.00      0.99      1923\n",
      "\n",
      "    accuracy                           0.93      9483\n",
      "   macro avg       0.94      0.93      0.93      9483\n",
      "weighted avg       0.94      0.93      0.93      9483\n",
      "\n",
      "\n",
      "Matriz de confusión:\n",
      "[[1871    0    1   25    0]\n",
      " [   0 1866   11   33    0]\n",
      " [ 285  270 1283    0   23]\n",
      " [   1    1    1 1887    2]\n",
      " [   0    0    1    0 1922]]\n"
     ]
    },
    {
     "data": {
      "text/plain": [
       "['.\\\\..\\\\Modelos\\\\RFC_weather_id.pkl']"
      ]
     },
     "execution_count": 12,
     "metadata": {},
     "output_type": "execute_result"
    }
   ],
   "source": [
    "# Seleccionar las características y el objetivo\n",
    "features = ['year', 'month', 'day', 'precipitation', 'wind', 'humidity', 'visibility', 'estacion_id']\n",
    "target = 'weather_id'\n",
    "\n",
    "# Dividir los datos en características (X) y objetivo (y)\n",
    "X = df[features]\n",
    "y = df[target]\n",
    "\n",
    "# Ajustar las etiquetas para que comiencen desde 0\n",
    "y_adjusted = y - 1  # Ahora las clases estarán en el rango [0, 1, 2, 3, 4]\n",
    "\n",
    "# Mostrar la distribución original de las clases\n",
    "print(\"Distribución original de las clases:\", Counter(y_adjusted))\n",
    "\n",
    "# Crear una instancia de SMOTE\n",
    "smote = SMOTE(random_state=42,k_neighbors=10)\n",
    "X_resampled, y_resampled = smote.fit_resample(X, y_adjusted)\n",
    "\n",
    "# Mostrar la nueva distribución de las clases\n",
    "print(\"Distribución de clases después de SMOTE:\", Counter(y_resampled))\n",
    "\n",
    "# Dividir los datos balanceados en conjuntos de entrenamiento y prueba\n",
    "X_train, X_test, y_train, y_test = train_test_split(X_resampled, y_resampled, test_size=0.2, random_state=42)\n",
    "\n",
    "# Crear un modelo de Random Forest (puedes usar cualquier otro clasificador)\n",
    "model = RandomForestClassifier(random_state=42, n_estimators=300, max_depth=30)\n",
    "\n",
    "# Ajustar el modelo con los datos de entrenamiento balanceados\n",
    "model.fit(X_train, y_train)\n",
    "\n",
    "# Realizar predicciones sobre el conjunto de prueba\n",
    "y_pred = model.predict(X_test)\n",
    "\n",
    "# Reconvertir las predicciones y las etiquetas originales\n",
    "y_pred = y_pred + 1  # Volver a [1, 2, 3, 4, 5]\n",
    "y_test = y_test + 1  # Volver a [1, 2, 3, 4, 5]\n",
    "\n",
    "accuracy = accuracy_score(y_test, y_pred)\n",
    "print(f\"Accuracy: {accuracy}\")\n",
    "\n",
    "# Evaluar el rendimiento del modelo\n",
    "print(\"\\nReporte de clasificación:\")\n",
    "print(classification_report(y_test, y_pred))\n",
    "\n",
    "# Mostrar la matriz de confusión\n",
    "print(\"\\nMatriz de confusión:\")\n",
    "print(confusion_matrix(y_test, y_pred))\n",
    "\n",
    "# Guardar el modelo entrenado usando joblib\n",
    "joblib.dump(model, r'.\\..\\Modelos\\RFC_weather_id.pkl')"
   ]
  },
  {
   "cell_type": "markdown",
   "metadata": {},
   "source": [
    "RNN"
   ]
  },
  {
   "cell_type": "code",
   "execution_count": null,
   "metadata": {},
   "outputs": [
    {
     "name": "stdout",
     "output_type": "stream",
     "text": [
      "Epoch 1/20\n"
     ]
    },
    {
     "name": "stderr",
     "output_type": "stream",
     "text": [
      "c:\\Users\\joant\\AppData\\Local\\Programs\\Python\\Python310\\lib\\site-packages\\keras\\src\\layers\\core\\dense.py:87: UserWarning: Do not pass an `input_shape`/`input_dim` argument to a layer. When using Sequential models, prefer using an `Input(shape)` object as the first layer in the model instead.\n",
      "  super().__init__(activity_regularizer=activity_regularizer, **kwargs)\n"
     ]
    },
    {
     "name": "stdout",
     "output_type": "stream",
     "text": [
      "\u001b[1m313/313\u001b[0m \u001b[32m━━━━━━━━━━━━━━━━━━━━\u001b[0m\u001b[37m\u001b[0m \u001b[1m1s\u001b[0m 2ms/step - accuracy: 0.7159 - loss: 0.8051 - val_accuracy: 0.8390 - val_loss: 0.4546\n",
      "Epoch 2/20\n",
      "\u001b[1m313/313\u001b[0m \u001b[32m━━━━━━━━━━━━━━━━━━━━\u001b[0m\u001b[37m\u001b[0m \u001b[1m0s\u001b[0m 1ms/step - accuracy: 0.8495 - loss: 0.4348 - val_accuracy: 0.8716 - val_loss: 0.3938\n",
      "Epoch 3/20\n",
      "\u001b[1m313/313\u001b[0m \u001b[32m━━━━━━━━━━━━━━━━━━━━\u001b[0m\u001b[37m\u001b[0m \u001b[1m0s\u001b[0m 1ms/step - accuracy: 0.8687 - loss: 0.3872 - val_accuracy: 0.8714 - val_loss: 0.3734\n",
      "Epoch 4/20\n",
      "\u001b[1m313/313\u001b[0m \u001b[32m━━━━━━━━━━━━━━━━━━━━\u001b[0m\u001b[37m\u001b[0m \u001b[1m0s\u001b[0m 1ms/step - accuracy: 0.8799 - loss: 0.3528 - val_accuracy: 0.8810 - val_loss: 0.3573\n",
      "Epoch 5/20\n",
      "\u001b[1m313/313\u001b[0m \u001b[32m━━━━━━━━━━━━━━━━━━━━\u001b[0m\u001b[37m\u001b[0m \u001b[1m0s\u001b[0m 1ms/step - accuracy: 0.8813 - loss: 0.3500 - val_accuracy: 0.8834 - val_loss: 0.3415\n",
      "Epoch 6/20\n",
      "\u001b[1m313/313\u001b[0m \u001b[32m━━━━━━━━━━━━━━━━━━━━\u001b[0m\u001b[37m\u001b[0m \u001b[1m0s\u001b[0m 1ms/step - accuracy: 0.8833 - loss: 0.3350 - val_accuracy: 0.8838 - val_loss: 0.3415\n",
      "Epoch 7/20\n",
      "\u001b[1m313/313\u001b[0m \u001b[32m━━━━━━━━━━━━━━━━━━━━\u001b[0m\u001b[37m\u001b[0m \u001b[1m0s\u001b[0m 1ms/step - accuracy: 0.8845 - loss: 0.3317 - val_accuracy: 0.8830 - val_loss: 0.3368\n",
      "Epoch 8/20\n",
      "\u001b[1m313/313\u001b[0m \u001b[32m━━━━━━━━━━━━━━━━━━━━\u001b[0m\u001b[37m\u001b[0m \u001b[1m0s\u001b[0m 1ms/step - accuracy: 0.8858 - loss: 0.3288 - val_accuracy: 0.8848 - val_loss: 0.3335\n",
      "Epoch 9/20\n",
      "\u001b[1m313/313\u001b[0m \u001b[32m━━━━━━━━━━━━━━━━━━━━\u001b[0m\u001b[37m\u001b[0m \u001b[1m0s\u001b[0m 1ms/step - accuracy: 0.8864 - loss: 0.3199 - val_accuracy: 0.8896 - val_loss: 0.3313\n",
      "Epoch 10/20\n",
      "\u001b[1m313/313\u001b[0m \u001b[32m━━━━━━━━━━━━━━━━━━━━\u001b[0m\u001b[37m\u001b[0m \u001b[1m0s\u001b[0m 1ms/step - accuracy: 0.8966 - loss: 0.3069 - val_accuracy: 0.8836 - val_loss: 0.3378\n",
      "Epoch 11/20\n",
      "\u001b[1m313/313\u001b[0m \u001b[32m━━━━━━━━━━━━━━━━━━━━\u001b[0m\u001b[37m\u001b[0m \u001b[1m0s\u001b[0m 1ms/step - accuracy: 0.8881 - loss: 0.3151 - val_accuracy: 0.8874 - val_loss: 0.3236\n",
      "Epoch 12/20\n",
      "\u001b[1m313/313\u001b[0m \u001b[32m━━━━━━━━━━━━━━━━━━━━\u001b[0m\u001b[37m\u001b[0m \u001b[1m0s\u001b[0m 1ms/step - accuracy: 0.8890 - loss: 0.3141 - val_accuracy: 0.8896 - val_loss: 0.3229\n",
      "Epoch 13/20\n",
      "\u001b[1m313/313\u001b[0m \u001b[32m━━━━━━━━━━━━━━━━━━━━\u001b[0m\u001b[37m\u001b[0m \u001b[1m0s\u001b[0m 1ms/step - accuracy: 0.8903 - loss: 0.3045 - val_accuracy: 0.8878 - val_loss: 0.3273\n",
      "Epoch 14/20\n",
      "\u001b[1m313/313\u001b[0m \u001b[32m━━━━━━━━━━━━━━━━━━━━\u001b[0m\u001b[37m\u001b[0m \u001b[1m0s\u001b[0m 1ms/step - accuracy: 0.8921 - loss: 0.3066 - val_accuracy: 0.8854 - val_loss: 0.3283\n",
      "Epoch 15/20\n",
      "\u001b[1m313/313\u001b[0m \u001b[32m━━━━━━━━━━━━━━━━━━━━\u001b[0m\u001b[37m\u001b[0m \u001b[1m0s\u001b[0m 1ms/step - accuracy: 0.8880 - loss: 0.3144 - val_accuracy: 0.8872 - val_loss: 0.3255\n",
      "Epoch 16/20\n",
      "\u001b[1m313/313\u001b[0m \u001b[32m━━━━━━━━━━━━━━━━━━━━\u001b[0m\u001b[37m\u001b[0m \u001b[1m0s\u001b[0m 1ms/step - accuracy: 0.8945 - loss: 0.3011 - val_accuracy: 0.8842 - val_loss: 0.3296\n",
      "Epoch 17/20\n",
      "\u001b[1m313/313\u001b[0m \u001b[32m━━━━━━━━━━━━━━━━━━━━\u001b[0m\u001b[37m\u001b[0m \u001b[1m0s\u001b[0m 1ms/step - accuracy: 0.8937 - loss: 0.2981 - val_accuracy: 0.8892 - val_loss: 0.3200\n",
      "Epoch 18/20\n",
      "\u001b[1m313/313\u001b[0m \u001b[32m━━━━━━━━━━━━━━━━━━━━\u001b[0m\u001b[37m\u001b[0m \u001b[1m0s\u001b[0m 1ms/step - accuracy: 0.8939 - loss: 0.2961 - val_accuracy: 0.8928 - val_loss: 0.3203\n",
      "Epoch 19/20\n",
      "\u001b[1m313/313\u001b[0m \u001b[32m━━━━━━━━━━━━━━━━━━━━\u001b[0m\u001b[37m\u001b[0m \u001b[1m0s\u001b[0m 1ms/step - accuracy: 0.8991 - loss: 0.2901 - val_accuracy: 0.8850 - val_loss: 0.3266\n",
      "Epoch 20/20\n",
      "\u001b[1m313/313\u001b[0m \u001b[32m━━━━━━━━━━━━━━━━━━━━\u001b[0m\u001b[37m\u001b[0m \u001b[1m0s\u001b[0m 1ms/step - accuracy: 0.8949 - loss: 0.2930 - val_accuracy: 0.8904 - val_loss: 0.3199\n",
      "157/157 - 0s - 750us/step - accuracy: 0.8904 - loss: 0.3199\n",
      "Pérdida en prueba: 0.3199012279510498\n",
      "Precisión en prueba: 0.8903999924659729\n",
      "\u001b[1m157/157\u001b[0m \u001b[32m━━━━━━━━━━━━━━━━━━━━\u001b[0m\u001b[37m\u001b[0m \u001b[1m0s\u001b[0m 780us/step\n"
     ]
    },
    {
     "name": "stderr",
     "output_type": "stream",
     "text": [
      "WARNING:absl:You are saving your model as an HDF5 file via `model.save()` or `keras.saving.save_model(model)`. This file format is considered legacy. We recommend using instead the native Keras format, e.g. `model.save('my_model.keras')` or `keras.saving.save_model(model, 'my_model.keras')`. \n"
     ]
    }
   ],
   "source": [
    "# 1. Importar las bibliotecas necesarias\n",
    "import pandas as pd\n",
    "from tensorflow.keras.models import Sequential\n",
    "from tensorflow.keras.layers import Dense\n",
    "from tensorflow.keras.utils import to_categorical\n",
    "from sklearn.model_selection import train_test_split\n",
    "from sklearn.preprocessing import StandardScaler\n",
    "\n",
    "# 3. Seleccionar características y objetivo\n",
    "features = ['year', 'month', 'day', 'precipitation', 'wind', 'humidity', 'visibility', 'estacion_id']\n",
    "target = 'weather_id'\n",
    "\n",
    "# Dividir en X (características) y y (objetivo)\n",
    "X = df[features]\n",
    "y = df[target]\n",
    "\n",
    "# 4. Preprocesamiento de datos\n",
    "# Normalizar las características numéricas\n",
    "scaler = StandardScaler()\n",
    "X_scaled = scaler.fit_transform(X)\n",
    "\n",
    "# Codificar el objetivo (y) si es una clasificación categórica\n",
    "y_encoded = to_categorical(y)  # Usamos to_categorical para convertir en \"one-hot encoding\"\n",
    "\n",
    "# 5. Dividir los datos en entrenamiento y prueba\n",
    "X_train, X_test, y_train, y_test = train_test_split(X_scaled, y_encoded, test_size=0.2, random_state=42)\n",
    "\n",
    "model = Sequential()\n",
    "model.add(Dense(128, input_dim=X_train.shape[1], activation='relu'))  # Más neuronas\n",
    "model.add(Dense(64, activation='relu'))  # Capa adicional\n",
    "model.add(Dense(32, activation='relu'))  # Capa adicional\n",
    "model.add(Dense(y_encoded.shape[1], activation='softmax'))  # Capa de salida\n",
    "\n",
    "# 7. Compilar el modelo\n",
    "model.compile(optimizer='adam', \n",
    "              loss='categorical_crossentropy',  # Para clasificación multiclase\n",
    "              metrics=['accuracy'])\n",
    "\n",
    "# 8. Entrenar el modelo\n",
    "history = model.fit(X_train, y_train, \n",
    "                    validation_data=(X_test, y_test), \n",
    "                    epochs=20,  # Número de épocas\n",
    "                    batch_size=64)\n",
    "\n",
    "# 9. Evaluar el modelo\n",
    "test_loss, test_accuracy = model.evaluate(X_test, y_test, verbose=2)\n",
    "print(f'Pérdida en prueba: {test_loss}')\n",
    "print(f'Precisión en prueba: {test_accuracy}')\n",
    "\n",
    "# 10. Hacer predicciones\n",
    "predictions = model.predict(X_test)\n",
    "\n",
    "# Opcional: Decodificar las predicciones de vuelta a sus clases originales\n",
    "predicted_classes = predictions.argmax(axis=1)\n",
    "\n",
    "# Decodificar las etiquetas reales (y_test) si están en formato one-hot\n",
    "y_test_classes = y_test.argmax(axis=1)\n",
    "\n",
    "# 11. Calcular y mostrar la matriz de confusión\n",
    "cm = confusion_matrix(y_test_classes, predicted_classes)\n",
    "print(cm)\n",
    "\n",
    "model.save(r'.\\..\\Modelos\\RNN_weather_id.h5')"
   ]
  },
  {
   "cell_type": "markdown",
   "metadata": {},
   "source": [
    "# PREDICCIONES"
   ]
  },
  {
   "cell_type": "markdown",
   "metadata": {},
   "source": [
    "Mejor modelo para weather_id: **Random Forest Classifier**"
   ]
  },
  {
   "cell_type": "code",
   "execution_count": null,
   "metadata": {},
   "outputs": [],
   "source": [
    "# Cargar el DataFrame y convertir la columna de fecha\n",
    "predictions = pd.read_csv(r'.\\..\\weather_predictions.csv')\n",
    "predictions['date'] = pd.to_datetime(predictions['date'])\n",
    "\n",
    "# Extraer año, mes y día de la fecha\n",
    "predictions['year'] = predictions['date'].dt.year\n",
    "predictions['month'] = predictions['date'].dt.month\n",
    "predictions['day'] = predictions['date'].dt.day\n",
    "\n",
    "# Cargar el modelo\n",
    "modelo_RFC = joblib.load(r'.\\..\\Modelos\\RandomForest\\Classifier\\weather_id_RFC.pkl')\n",
    "\n",
    "# Seleccionar las características requeridas para el modelo\n",
    "features = [\n",
    "    'year', 'month', 'day', 'precipitation', 'temp_max', 'temp_min',\n",
    "    'wind', 'humidity', 'pressure', 'solar_radiation', 'visibility', 'cloudiness_id'\n",
    "]\n",
    "\n",
    "# Crear la matriz de características para el modelo\n",
    "X = predictions[features]\n",
    "\n",
    "# Generar predicciones con el modelo\n",
    "predictions['weather_id'] = modelo_RFC.predict(X).round(0).astype(int)\n",
    "\n",
    "# Guardar el DataFrame actualizado\n",
    "predictions.to_csv(r'.\\..\\weather_predictions.csv', index=False)\n"
   ]
  }
 ],
 "metadata": {
  "kernelspec": {
   "display_name": "Python 3",
   "language": "python",
   "name": "python3"
  },
  "language_info": {
   "codemirror_mode": {
    "name": "ipython",
    "version": 3
   },
   "file_extension": ".py",
   "mimetype": "text/x-python",
   "name": "python",
   "nbconvert_exporter": "python",
   "pygments_lexer": "ipython3",
   "version": "3.10.0"
  }
 },
 "nbformat": 4,
 "nbformat_minor": 2
}
