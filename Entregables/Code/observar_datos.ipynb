{
 "cells": [
  {
   "cell_type": "code",
   "execution_count": 2,
   "metadata": {},
   "outputs": [],
   "source": [
    "import pandas as pd\n",
    "import seaborn as sns\n",
    "import os\n",
    "import matplotlib.pyplot as plt"
   ]
  },
  {
   "cell_type": "code",
   "execution_count": 4,
   "metadata": {},
   "outputs": [],
   "source": [
    "path = r\"C:\\Users\\joant\\OneDrive\\Stucom\\MasterIA\\BigData\\Projecte3_Meteorologia\\Datos_Proyecto\"\n",
    "\n",
    "df_observations = pd.read_csv(r\"D:\\STUCOM\\Master_IABD\\Projecte3_Meteorologia\\Datos_Proyecto\\observations.csv\")"
   ]
  },
  {
   "cell_type": "markdown",
   "metadata": {},
   "source": [
    "**CHECK FOR NA VALUES ON DATA**"
   ]
  },
  {
   "cell_type": "code",
   "execution_count": null,
   "metadata": {},
   "outputs": [],
   "source": [
    "for csv in os.listdir(path):\n",
    "    df = pd.read_csv(os.path.join(path, csv)) \n",
    "    print(f\"{csv}:\\n{df.isna().sum()}\\n\")"
   ]
  },
  {
   "cell_type": "markdown",
   "metadata": {},
   "source": [
    "VISUALIZACION DE VALORES NULOS"
   ]
  },
  {
   "cell_type": "code",
   "execution_count": null,
   "metadata": {},
   "outputs": [],
   "source": [
    "# 2. Resumen de los datos nulos\n",
    "print(\"Resumen de valores nulos por columna:\")\n",
    "print(df_observations.isnull().sum())\n",
    "\n",
    "# 3. Total de nulos\n",
    "total_nulos = df_observations.isnull().sum().sum()\n",
    "print(f\"\\nTotal de valores nulos en el DataFrame: {total_nulos}\")\n",
    "\n",
    "# 4. Porcentaje de datos nulos por columna\n",
    "porcentaje_nulos = (df_observations.isnull().sum() / len(df_observations)) * 100\n",
    "print(\"\\nPorcentaje de valores nulos por columna:\")\n",
    "print(porcentaje_nulos)"
   ]
  },
  {
   "cell_type": "code",
   "execution_count": null,
   "metadata": {},
   "outputs": [],
   "source": [
    "# Calcular la cantidad de valores nulos por columna\n",
    "null_counts = df_observations.isnull().sum()\n",
    "\n",
    "# Calcular el total de registros por columna\n",
    "total_counts = df_observations.shape[0]\n",
    "\n",
    "# Crear una nueva DataFrame con los datos para graficar\n",
    "data = pd.DataFrame({\n",
    "    'No Nulos': total_counts - null_counts.values,\n",
    "    'Nulos': null_counts.values\n",
    "}, index=null_counts.index)\n",
    "\n",
    "# Configurar el tamaño de la figura\n",
    "plt.figure(figsize=(15, 10))\n",
    "\n",
    "# Crear el gráfico de barras apiladas (gráfico de columnas agrupadas)\n",
    "data.plot(kind='bar', stacked=False, color=['green', 'red'])\n",
    "\n",
    "# Títulos y etiquetas\n",
    "plt.title(\"Total de Registros vs Valores Nulos por Columna\")\n",
    "plt.xlabel(\"Columnas\")\n",
    "plt.ylabel(\"Cantidad de Registros\")\n",
    "plt.xticks(rotation=90)  # Rotar las etiquetas del eje x si es necesario\n",
    "\n",
    "# Agregar leyenda\n",
    "plt.legend([\"No Nulos\", \"Nulos\"])\n",
    "\n",
    "# Mostrar el gráfico\n",
    "plt.show()"
   ]
  },
  {
   "cell_type": "code",
   "execution_count": null,
   "metadata": {},
   "outputs": [],
   "source": [
    "# Estadísticas descriptivas de las columnas con nulos\n",
    "cols_nulos = ['precipitation', 'temp_max', 'temp_min', 'wind']\n",
    "print(df_observations[cols_nulos].describe())\n",
    "\n",
    "# Histograma de cada columna\n",
    "for col in cols_nulos:\n",
    "    plt.figure(figsize=(8, 5))\n",
    "    sns.histplot(df_observations[col], kde=True, bins=30, color='blue')\n",
    "    plt.title(f\"Distribución de {col}\")\n",
    "    plt.xlabel(col)\n",
    "    plt.ylabel(\"Frecuencia\")\n",
    "    plt.show()"
   ]
  },
  {
   "cell_type": "markdown",
   "metadata": {},
   "source": [
    "**ANALISIS DE DATOS CON NULOS**"
   ]
  },
  {
   "cell_type": "code",
   "execution_count": null,
   "metadata": {},
   "outputs": [],
   "source": [
    "data = pd.read_csv(r\"E:\\STUCOM\\Master_IABD\\Projecte3_Meteorologia\\Datos_Proyecto\\observations.csv\")\n",
    "\n",
    "data_cleaned = data.dropna()\n",
    "\n",
    "numerical_data = data_cleaned.select_dtypes(include=['float64', 'int64'])\n",
    "\n",
    "correlation_matrix = numerical_data.corr()\n",
    "\n",
    "plt.figure(figsize=(10, 8))\n",
    "sns.heatmap(correlation_matrix, annot=True, cmap='coolwarm', fmt='.2f')\n",
    "plt.title('Mapa de Calor de Correlaciones')\n",
    "plt.show()\n"
   ]
  },
  {
   "cell_type": "markdown",
   "metadata": {},
   "source": [
    "**VISUALIZAR LOS DATOS QUE RESALTAN EN EL GRÁFICO DE CORRELACIONES**"
   ]
  },
  {
   "cell_type": "markdown",
   "metadata": {},
   "source": [
    "WEATHER_ID"
   ]
  },
  {
   "cell_type": "code",
   "execution_count": null,
   "metadata": {},
   "outputs": [],
   "source": [
    "# Boxplot de weather_id vs precipitación\n",
    "plt.figure(figsize=(10, 6))\n",
    "sns.boxplot(x='weather_id', y='precipitation', hue='weather_id', data=data_cleaned, palette='Blues', legend=False)\n",
    "plt.title('Distribución de Precipitación según Weather ID')\n",
    "plt.xlabel('Weather ID')\n",
    "plt.ylabel('Precipitación')\n",
    "plt.show()\n",
    "\n",
    "# Boxplot de weather_id vs viento\n",
    "plt.figure(figsize=(10, 6))\n",
    "sns.boxplot(x='weather_id', y='wind', data=data_cleaned, palette='Greens')\n",
    "plt.title('Distribución de Viento según Weather ID')\n",
    "plt.xlabel('Weather ID')\n",
    "plt.ylabel('Viento')\n",
    "plt.show()"
   ]
  },
  {
   "cell_type": "code",
   "execution_count": null,
   "metadata": {},
   "outputs": [],
   "source": [
    "# Boxplot de weather_id vs viento\n",
    "plt.figure(figsize=(10, 6))\n",
    "sns.boxplot(x='cloudiness_id', y='solar_radiation', data=data_cleaned, palette='Reds')\n",
    "plt.title('Distribución de Radiación Solar según Cloudiness ID')\n",
    "plt.xlabel('Cloudiness ID')\n",
    "plt.ylabel('Radiación Solar')\n",
    "plt.show()"
   ]
  },
  {
   "cell_type": "markdown",
   "metadata": {},
   "source": [
    "**METODOS DE IMPUTACIÓN DE VALORES NULOS**"
   ]
  },
  {
   "cell_type": "markdown",
   "metadata": {},
   "source": [
    "con los valores previos y posteriores del valor nulo"
   ]
  },
  {
   "cell_type": "code",
   "execution_count": 6,
   "metadata": {},
   "outputs": [],
   "source": [
    "dates = pd.read_csv(r\"D:\\STUCOM\\Master_IABD\\Projecte3_Meteorologia\\Datos_Proyecto\\dates.csv\")  # Archivo con las fechas\n",
    "\n",
    "# Unir la fecha al DataFrame principal\n",
    "df_observations = df_observations.merge(dates, on='date_id', how='left')\n",
    "\n",
    "# Convertir la fecha a formato datetime y extrae\n",
    "df_observations['date'] = pd.to_datetime(df_observations['date'])\n",
    "\n",
    "# ordenar por 'date'\n",
    "df_observations = df_observations.sort_values(by='date')\n",
    "\n",
    "# Calcular las medias por estación y año para las columnas con valores nulos\n",
    "columns_to_impute = ['precipitation', 'temp_max', 'temp_min', 'wind']\n",
    "\n",
    "for col in columns_to_impute:\n",
    "    df_observations[col] = df_observations[col].interpolate(method='linear', limit_direction='both')\n",
    "\n",
    "df_observations.to_csv(r\"D:\\STUCOM\\Master_IABD\\Projecte3_Meteorologia\\Datos_Proyecto\\observations_full.csv\", index=False)\n",
    "\n"
   ]
  },
  {
   "cell_type": "markdown",
   "metadata": {},
   "source": [
    "**ANALISIS DE DATOS SIN NULOS**"
   ]
  },
  {
   "cell_type": "code",
   "execution_count": null,
   "metadata": {},
   "outputs": [],
   "source": [
    "full_data = pd.read_csv(r\"C:\\Users\\joant\\OneDrive\\Stucom\\MasterIA\\BigData\\Projecte3_Meteorologia\\Datos_Proyecto\\observations_full.csv\")\n",
    "\n",
    "numerical_data = full_data.select_dtypes(include=['float64', 'int64'])\n",
    "\n",
    "correlation_matrix = numerical_data.corr()\n",
    "\n",
    "plt.figure(figsize=(10, 8))\n",
    "sns.heatmap(correlation_matrix, annot=True, cmap='coolwarm', fmt='.2f')\n",
    "plt.title('Mapa de Calor de Correlaciones')\n",
    "plt.show()"
   ]
  },
  {
   "cell_type": "code",
   "execution_count": null,
   "metadata": {},
   "outputs": [],
   "source": [
    "# Estadísticas descriptivas de las columnas que contenian nulos\n",
    "cols_nulos = ['precipitation', 'temp_max', 'temp_min', 'wind']\n",
    "print(full_data[cols_nulos].describe())\n",
    "\n",
    "# Histograma de cada columna\n",
    "for col in cols_nulos:\n",
    "    plt.figure(figsize=(8, 5))\n",
    "    sns.histplot(full_data[col], kde=True, bins=30, color='blue')\n",
    "    plt.title(f\"Distribución de {col}\")\n",
    "    plt.xlabel(col)\n",
    "    plt.ylabel(\"Frecuencia\")\n",
    "    plt.show()"
   ]
  },
  {
   "cell_type": "markdown",
   "metadata": {},
   "source": [
    "**VISUALIZAR LOS DATOS QUE RESALTAN EN EL GRÁFICO DE CORRELACIONES**"
   ]
  },
  {
   "cell_type": "markdown",
   "metadata": {},
   "source": [
    "WEATHER ID"
   ]
  },
  {
   "cell_type": "code",
   "execution_count": null,
   "metadata": {},
   "outputs": [],
   "source": [
    "# Boxplot de weather_id vs precipitación\n",
    "plt.figure(figsize=(10, 6))\n",
    "sns.boxplot(x='weather_id', y='precipitation', hue='weather_id', data=full_data, palette='Blues', legend=False)\n",
    "plt.title('Distribución de Precipitación según Weather ID')\n",
    "plt.xlabel('Weather ID')\n",
    "plt.ylabel('Precipitación')\n",
    "plt.show()"
   ]
  },
  {
   "cell_type": "markdown",
   "metadata": {},
   "source": [
    "PRECIPITATION"
   ]
  },
  {
   "cell_type": "code",
   "execution_count": null,
   "metadata": {},
   "outputs": [],
   "source": [
    "# Boxplot de weather_id vs viento\n",
    "plt.figure(figsize=(10, 6))\n",
    "sns.boxplot(x='weather_id', y='wind', data=full_data, palette='Greens')\n",
    "plt.title('Distribución de Viento según Weather ID')\n",
    "plt.xlabel('Weather ID')\n",
    "plt.ylabel('Viento')\n",
    "plt.show()"
   ]
  },
  {
   "cell_type": "markdown",
   "metadata": {},
   "source": [
    "WEATHER ID vs WIND"
   ]
  },
  {
   "cell_type": "code",
   "execution_count": null,
   "metadata": {},
   "outputs": [],
   "source": [
    "# Boxplot de weather_id vs viento\n",
    "plt.figure(figsize=(10, 6))\n",
    "sns.boxplot(x='cloudiness_id', y='solar_radiation', data=full_data, palette='Reds')\n",
    "plt.title('Distribución de Radiación Solar según Cloudiness ID')\n",
    "plt.xlabel('Cloudiness ID')\n",
    "plt.ylabel('Radiación Solar')\n",
    "plt.show()"
   ]
  },
  {
   "cell_type": "markdown",
   "metadata": {},
   "source": [
    "**CARGAR LOS DATOS SQL Y CREAR LOS GRAFICOS**"
   ]
  },
  {
   "cell_type": "code",
   "execution_count": 21,
   "metadata": {},
   "outputs": [],
   "source": [
    "import matplotlib.pyplot as plt\n",
    "import seaborn as sns\n",
    "import sqlite3\n",
    "\n",
    "conn = sqlite3.connect(r\"C:\\Users\\joant\\OneDrive\\Stucom\\MasterIA\\BigData\\Projecte3_Meteorologia\\Entregables\\Code\\weather.db\")\n",
    "\n",
    "# Cargar cada tabla en un DataFrame de pandas\n",
    "df_cloudiness = pd.read_sql_query(\"SELECT * FROM cloudiness\", conn)\n",
    "df_dates = pd.read_sql_query(\"SELECT * FROM dates\", conn)\n",
    "df_observations = pd.read_sql_query(\"SELECT * FROM observations_full\", conn)\n",
    "df_weather = pd.read_sql_query(\"SELECT * FROM weather\", conn)\n",
    "df_seasons = pd.read_sql_query(\"SELECT * FROM seasons\", conn)\n",
    "\n",
    "# Cerrar la conexión cuando hayas terminado\n",
    "conn.close()\n",
    "\n",
    "# Unir las tablas usando merge\n",
    "df = df_observations \\\n",
    "    .merge(df_dates, on='date_id') \\\n",
    "    .merge(df_weather, on='weather_id') \\\n",
    "    .merge(df_cloudiness, on='cloudiness_id') \\\n",
    "    .merge(df_seasons, on='estacion_id')\n"
   ]
  },
  {
   "cell_type": "markdown",
   "metadata": {},
   "source": [
    "DISTRIBUCIÓN DE LAS TEMPERATURAS MAXIMAS"
   ]
  },
  {
   "cell_type": "code",
   "execution_count": null,
   "metadata": {},
   "outputs": [],
   "source": [
    "# Graficar un histograma de temperatura máxima\n",
    "plt.figure(figsize=(10, 6))\n",
    "sns.histplot(df['temp_max'].dropna(), bins=30, kde=True)\n",
    "plt.title(\"Distribución de Temperatura Máxima\")\n",
    "plt.xlabel(\"Temperatura Máxima (°C)\")\n",
    "plt.ylabel(\"Frecuencia\")\n",
    "plt.show()"
   ]
  },
  {
   "cell_type": "markdown",
   "metadata": {},
   "source": [
    "TEMPERATURA MAX/MIN POR FECHA"
   ]
  },
  {
   "cell_type": "code",
   "execution_count": null,
   "metadata": {},
   "outputs": [],
   "source": [
    "# Convertir la columna de fechas a tipo datetime\n",
    "df['date'] = pd.to_datetime(df['date'])\n",
    "\n",
    "# Graficar temperatura máxima y mínima a lo largo del tiempo\n",
    "plt.figure(figsize=(14, 8))\n",
    "sns.lineplot(x='date', y='temp_max', data=df, label='Temp Max')\n",
    "sns.lineplot(x='date', y='temp_min', data=df, label='Temp Min')\n",
    "plt.title(\"Temperatura Máxima y Mínima a lo Largo del Tiempo\")\n",
    "plt.xlabel(\"Fecha\")\n",
    "plt.ylabel(\"Temperatura (°C)\")\n",
    "plt.legend()\n",
    "plt.show()"
   ]
  },
  {
   "cell_type": "markdown",
   "metadata": {},
   "source": [
    "HUMEDAD POR CONDICION CLIMATICA"
   ]
  },
  {
   "cell_type": "code",
   "execution_count": null,
   "metadata": {},
   "outputs": [],
   "source": [
    "# Calcular la humedad promedio por tipo de clima\n",
    "df_weather_humidity = df.groupby('weather')['humidity'].mean().reset_index()\n",
    "\n",
    "# Graficar la humedad promedio por tipo de clima\n",
    "plt.figure(figsize=(10, 6))\n",
    "sns.barplot(x='humidity', y='weather', hue='weather', data=df_weather_humidity, palette=\"viridis\", legend=False)\n",
    "plt.title(\"Humedad Promedio por Condición Climática\")\n",
    "plt.xlabel(\"Humedad (%)\")\n",
    "plt.ylabel(\"Condición Climática\")\n",
    "plt.show()"
   ]
  },
  {
   "cell_type": "markdown",
   "metadata": {},
   "source": [
    "TEMPERATURA MÁXIMA POR TIPO DE TIEMPO"
   ]
  },
  {
   "cell_type": "code",
   "execution_count": null,
   "metadata": {},
   "outputs": [],
   "source": [
    "plt.figure(figsize=(12, 6))\n",
    "sns.boxplot(x='weather', y='temp_max', hue='weather', data=df, palette=\"Set3\", legend=False)\n",
    "plt.title(\"Distribución de Temperatura Máxima por Condición Climática\")\n",
    "plt.xlabel(\"Condición Climática\")\n",
    "plt.ylabel(\"Temperatura Máxima (°C)\")\n",
    "plt.show()"
   ]
  },
  {
   "cell_type": "markdown",
   "metadata": {},
   "source": [
    "VIENTO vs PRESIÓN"
   ]
  },
  {
   "cell_type": "code",
   "execution_count": null,
   "metadata": {},
   "outputs": [],
   "source": [
    "plt.figure(figsize=(10, 6))\n",
    "sns.scatterplot(x='wind', y='pressure', hue='cloudiness', data=df, palette=\"bright\")\n",
    "plt.title(\"Viento vs. Presión según Nubosidad\")\n",
    "plt.xlabel(\"Velocidad del Viento (m/s)\")\n",
    "plt.ylabel(\"Presión (hPa)\")\n",
    "plt.legend(title=\"Nubosidad\", bbox_to_anchor=(1.05, 1), loc='upper left')\n",
    "plt.show()"
   ]
  },
  {
   "cell_type": "markdown",
   "metadata": {},
   "source": [
    "PRECIPITACION POR VIENTO Y TIPO DE TIEMPO"
   ]
  },
  {
   "cell_type": "code",
   "execution_count": null,
   "metadata": {},
   "outputs": [],
   "source": [
    "# Graficar\n",
    "plt.figure(figsize=(12, 8))\n",
    "sns.scatterplot(x='wind', y='precipitation', hue='weather', data=df, palette=\"Set2\", s=50)\n",
    "plt.title(\"Precipitación vs. Viento por Weather\")\n",
    "plt.xlabel(\"Velocidad del Viento (m/s)\")\n",
    "plt.ylabel(\"Precipitación (mm)\")\n",
    "plt.legend(title='Tipo de Tiempo', bbox_to_anchor=(1.05, 1), loc='upper left')\n",
    "plt.grid(True)\n",
    "plt.show()\n"
   ]
  },
  {
   "cell_type": "markdown",
   "metadata": {},
   "source": [
    "PRECIPITACIÓN POR TIPO DE TIEMPO"
   ]
  },
  {
   "cell_type": "code",
   "execution_count": null,
   "metadata": {},
   "outputs": [],
   "source": [
    "# Graficar\n",
    "plt.figure(figsize=(12, 6))\n",
    "sns.barplot(x='weather', y='precipitation', hue='weather', data=df, palette=\"viridis\", legend=False)\n",
    "plt.title(\"Precipitación Promedio por Weather\")\n",
    "plt.xlabel(\"Tipo de Tiempo\")\n",
    "plt.ylabel(\"Precipitación Promedio (mm)\")\n",
    "plt.xticks(rotation=45)\n",
    "plt.show()"
   ]
  },
  {
   "cell_type": "markdown",
   "metadata": {},
   "source": [
    "TEMPERATURA PROMEDIO POR MES"
   ]
  },
  {
   "cell_type": "code",
   "execution_count": null,
   "metadata": {},
   "outputs": [],
   "source": [
    "# CONVERTIR date A datetime\n",
    "df['date'] = pd.to_datetime(df['date'])\n",
    "\n",
    "# EXTRAER MES Y AÑO\n",
    "df['month'] = df['date'].dt.month\n",
    "df['year'] = df['date'].dt.year\n",
    "\n",
    "# AGRUPAR POR MES Y CALCULAR LA TEMPERATURA PROMEDIO\n",
    "df_temp_by_month = df.groupby('month').agg({'temp_max': 'mean', 'temp_min': 'mean'}).reset_index()\n",
    "\n",
    "# MOSTRAR GRAFICO\n",
    "plt.figure(figsize=(12, 6))\n",
    "sns.lineplot(data=df_temp_by_month, x='month', y='temp_max', marker='o', label='Temp Max', color='red')\n",
    "sns.lineplot(data=df_temp_by_month, x='month', y='temp_min', marker='o', label='Temp Min', color='blue')\n",
    "plt.title(\"Temperatura Promedio por Mes\")\n",
    "plt.xlabel(\"Mes\")\n",
    "plt.ylabel(\"Temperatura (°C)\")\n",
    "plt.xticks(ticks=df_temp_by_month['month'], labels=[\"Ene\", \"Feb\", \"Mar\", \"Abr\", \"May\", \"Jun\", \"Jul\", \"Ago\", \"Sep\", \"Oct\", \"Nov\", \"Dic\"])\n",
    "plt.legend()\n",
    "plt.show()\n"
   ]
  },
  {
   "cell_type": "markdown",
   "metadata": {},
   "source": [
    "TEMPERATURA PROMEDIO POR AÑO"
   ]
  },
  {
   "cell_type": "code",
   "execution_count": null,
   "metadata": {},
   "outputs": [],
   "source": [
    "# CONVERTIR date A datetime\n",
    "df['date'] = pd.to_datetime(df['date'])\n",
    "\n",
    "# EXTRAER MES Y AÑO\n",
    "df['month'] = df['date'].dt.month\n",
    "df['year'] = df['date'].dt.year\n",
    "\n",
    "# AGRUPAR POR MES Y CALCULAR LA TEMPERATURA PROMEDIO\n",
    "df_temp_by_month = df.groupby('year').agg({'temp_max': 'mean', 'temp_min': 'mean'}).reset_index()\n",
    "\n",
    "# MOSTRAR GRAFICO\n",
    "plt.figure(figsize=(12, 6))\n",
    "sns.lineplot(data=df_temp_by_month, x='year', y='temp_max', marker='o', label='Temp Max', color='red')\n",
    "sns.lineplot(data=df_temp_by_month, x='year', y='temp_min', marker='o', label='Temp Min', color='blue')\n",
    "plt.title(\"Temperatura Promedio por Año\")\n",
    "plt.xlabel(\"Year\")\n",
    "plt.ylabel(\"Temperatura (°C)\")\n",
    "plt.legend()\n",
    "plt.show()\n"
   ]
  },
  {
   "cell_type": "markdown",
   "metadata": {},
   "source": [
    "VARIABILIDAD DE LA VISIBILIDAD POR CONDICIÓN CLIMÁTICA"
   ]
  },
  {
   "cell_type": "code",
   "execution_count": null,
   "metadata": {},
   "outputs": [],
   "source": [
    "# Grafica de la visibilidad por condición climática\n",
    "plt.figure(figsize=(12, 6))\n",
    "sns.boxplot(data=df, x='weather', y='visibility', hue='weather_id', palette=\"viridis\", legend=False)\n",
    "plt.title('Variabilidad de la Visibilidad por Condición Climática')\n",
    "plt.xlabel('Condición Climática')\n",
    "plt.ylabel('Visibilidad')\n",
    "plt.grid(axis='y')\n",
    "plt.show()\n"
   ]
  },
  {
   "cell_type": "markdown",
   "metadata": {},
   "source": [
    "TEMPERATURA MÁXIMA Y MÍNIMA PROMEDIO POR ESTACIÓN DEL AÑO"
   ]
  },
  {
   "cell_type": "code",
   "execution_count": null,
   "metadata": {},
   "outputs": [],
   "source": [
    "# Temperatura promedio por estación\n",
    "temp_seasonal_avg = df.groupby('estacion')[['temp_max', 'temp_min']].mean()\n",
    "\n",
    "# Gráfica de barras para temperatura máxima y mínima por estación\n",
    "plt.figure(figsize=(10, 6))\n",
    "temp_seasonal_avg.plot(kind='bar', color=['#ff8f1e','#47bfff'])\n",
    "plt.title('Temperatura Máxima y Mínima Promedio por Estación del Año')\n",
    "plt.xlabel('Estación')\n",
    "plt.xticks(ticks=range(4), labels=['Invierno', 'Primavera', 'Verano', 'Otoño'], rotation=0)\n",
    "plt.ylabel('Temperatura Promedio')\n",
    "plt.legend(['Temp Max', 'Temp Min'])\n",
    "plt.grid(axis='y')\n",
    "plt.show()\n"
   ]
  }
 ],
 "metadata": {
  "kernelspec": {
   "display_name": "Python 3",
   "language": "python",
   "name": "python3"
  },
  "language_info": {
   "codemirror_mode": {
    "name": "ipython",
    "version": 3
   },
   "file_extension": ".py",
   "mimetype": "text/x-python",
   "name": "python",
   "nbconvert_exporter": "python",
   "pygments_lexer": "ipython3",
   "version": "3.13.0"
  }
 },
 "nbformat": 4,
 "nbformat_minor": 2
}
